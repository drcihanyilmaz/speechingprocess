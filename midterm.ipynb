{
  "nbformat": 4,
  "nbformat_minor": 0,
  "metadata": {
    "colab": {
      "provenance": [],
      "authorship_tag": "ABX9TyMq+VL2EtxrmYx5PbcqjCYx",
      "include_colab_link": true
    },
    "kernelspec": {
      "name": "python3",
      "display_name": "Python 3"
    },
    "language_info": {
      "name": "python"
    }
  },
  "cells": [
    {
      "cell_type": "markdown",
      "metadata": {
        "id": "view-in-github",
        "colab_type": "text"
      },
      "source": [
        "<a href=\"https://colab.research.google.com/github/drcihanyilmaz/speechingprocess/blob/main/midterm.ipynb\" target=\"_parent\"><img src=\"https://colab.research.google.com/assets/colab-badge.svg\" alt=\"Open In Colab\"/></a>"
      ]
    },
    {
      "cell_type": "code",
      "execution_count": null,
      "metadata": {
        "colab": {
          "base_uri": "https://localhost:8080/"
        },
        "id": "CfGwgzsx-1no",
        "outputId": "d94452a1-8a15-4c68-a8fb-42a49d466aae"
      },
      "outputs": [
        {
          "output_type": "stream",
          "name": "stdout",
          "text": [
            "\n",
            "Edit distance between 'AHMET' and 'MUHAMMET': 3.0999999999999996\n",
            "Best Path: ['S', 'I', 'M', 'I', 'M', 'I', 'M', 'M']\n",
            "\n",
            "Edit distance between 'INTENTION' and 'EXECUTION': 4.4\n",
            "Best Path: ['S', 'S', 'D', 'M', 'S', 'I', 'M', 'M', 'M', 'M']\n",
            "\n",
            "Edit distance between 'KERAMET' and 'MERHAMET': 1.7\n",
            "Best Path: ['S', 'M', 'M', 'I', 'M', 'M', 'M', 'M']\n"
          ]
        }
      ],
      "source": [
        "def print_matrix(matrix):\n",
        "    for row in matrix:\n",
        "        print(row)\n",
        "\n",
        "def min_edit_distance(str1, str2, delete_cost, insert_cost, substitute_cost):\n",
        "    len_str1 = len(str1) + 1\n",
        "    len_str2 = len(str2) + 1\n",
        "\n",
        "    # Matrisi sıfırlarla başlatma\n",
        "    matrix = [[0] * len_str2 for _ in range(len_str1)]\n",
        "\n",
        "    # İlk satır ve sütunu kümülatif silme ve ekleme maliyetleriyle başlatma\n",
        "    for i in range(1, len_str1):\n",
        "        matrix[i][0] = matrix[i - 1][0] + delete_cost\n",
        "\n",
        "    for j in range(1, len_str2):\n",
        "        matrix[0][j] = matrix[0][j - 1] + insert_cost\n",
        "\n",
        "    # Matrisi doldurma ve yolu takip etme\n",
        "    for i in range(1, len_str1):\n",
        "        for j in range(1, len_str2):\n",
        "            delete = matrix[i - 1][j] + delete_cost\n",
        "            insert = matrix[i][j - 1] + insert_cost\n",
        "            substitute = matrix[i - 1][j - 1] + (0 if str1[i - 1] == str2[j - 1] else substitute_cost)\n",
        "\n",
        "            # Minimum maliyetli operasyonu seçme\n",
        "            matrix[i][j] = min(delete, insert, substitute)\n",
        "\n",
        "    # En iyi yolu bulmak için geri izleme\n",
        "    i, j = len_str1 - 1, len_str2 - 1\n",
        "    path = []\n",
        "\n",
        "    while i > 0 or j > 0:\n",
        "        current_cost = matrix[i][j]\n",
        "        delete = matrix[i - 1][j] + delete_cost\n",
        "        insert = matrix[i][j - 1] + insert_cost\n",
        "        substitute = matrix[i - 1][j - 1] + (0 if str1[i - 1] == str2[j - 1] else substitute_cost)\n",
        "\n",
        "        if current_cost == delete:\n",
        "            path.insert(0, 'D')\n",
        "            i -= 1\n",
        "        elif current_cost == insert:\n",
        "            path.insert(0, 'I')\n",
        "            j -= 1\n",
        "        else:\n",
        "            if current_cost == substitute:\n",
        "                path.insert(0, 'S' if str1[i - 1] != str2[j - 1] else 'M')\n",
        "            i -= 1\n",
        "            j -= 1\n",
        "\n",
        "    return matrix[len_str1 - 1][len_str2 - 1], path\n",
        "\n",
        "# Test senaryoları\n",
        "strings = [(\"AHMET\", \"MUHAMMET\"), (\"INTENTION\", \"EXECUTION\"), (\"KERAMET\", \"MERHAMET\")]\n",
        "\n",
        "for str1, str2 in strings:\n",
        "    edit_distance, path = min_edit_distance(str1, str2, 0.7, 0.7, 1.0)\n",
        "\n",
        "    print(f\"\\nEdit distance between '{str1}' and '{str2}': {edit_distance}\")\n",
        "    print(\"Best Path:\", path)"
      ]
    }
  ]
}